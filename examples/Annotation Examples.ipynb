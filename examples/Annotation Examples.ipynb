{
 "cells": [
  {
   "cell_type": "code",
   "execution_count": 1,
   "metadata": {},
   "outputs": [],
   "source": [
    "%matplotlib inline\n",
    "%config IPCompleter.greedy=True\n",
    "%reload_ext autoreload\n",
    "%autoreload 2"
   ]
  },
  {
   "cell_type": "code",
   "execution_count": 2,
   "metadata": {},
   "outputs": [],
   "source": [
    "from PIL import Image\n",
    "from pycocotools.coco import COCO\n",
    "\n",
    "import cv2\n",
    "import sys\n",
    "import numpy as np\n",
    "import matplotlib.pyplot as plt\n",
    "\n",
    "sys.path.insert(0, '../libs')\n",
    "\n",
    "from imantics import Annotation"
   ]
  },
  {
   "cell_type": "markdown",
   "metadata": {},
   "source": [
    "#### Create an annotation from a segmentation and display results"
   ]
  },
  {
   "cell_type": "code",
   "execution_count": 3,
   "metadata": {},
   "outputs": [
    {
     "data": {
      "image/png": "[encoded data removed]",
      "text/plain": [
       "<Figure size 432x288 with 1 Axes>"
      ]
     },
     "metadata": {
      "needs_background": "light"
     },
     "output_type": "display_data"
    },
    {
     "name": "stdout",
     "output_type": "stream",
     "text": [
      "Area: 94\n",
      "BBox: (1, 2, 20, 20)\n",
      "Polygons in Point format:\n",
      "[array([[1, 8],\n",
      "       [7, 8],\n",
      "       [1, 2]]), array([[10, 10],\n",
      "       [20, 20],\n",
      "       [10, 20]])]\n"
     ]
    }
   ],
   "source": [
    "from_segment = Annotation(size=(50, 50), polygons=[[1, 8, 7, 8, 1, 2], [10,10, 20, 20, 10, 20]])\n",
    "\n",
    "boolean_array = from_segment.array\n",
    "plt.imshow(boolean_array)\n",
    "plt.show()\n",
    "\n",
    "print(\"Area: {}\".format(from_segment.area))\n",
    "print(\"BBox: {}\".format(from_segment.bbox))\n",
    "print(\"Polygons in Point format:\\n{}\".format(from_segment.polygons.points))"
   ]
  },
  {
   "cell_type": "markdown",
   "metadata": {},
   "source": [
    "#### Create an annotation from bounding box"
   ]
  },
  {
   "cell_type": "code",
   "execution_count": 4,
   "metadata": {},
   "outputs": [
    {
     "data": {
      "image/png": "[encoded data removed]",
      "text/plain": [
       "<Figure size 432x288 with 1 Axes>"
      ]
     },
     "metadata": {
      "needs_background": "light"
     },
     "output_type": "display_data"
    },
    {
     "name": "stdout",
     "output_type": "stream",
     "text": [
      "Area: 700\n",
      "BBox: (10, 5, 30, 40)\n",
      "Polygons in Point format:\n",
      "[array([[10, 40],\n",
      "       [30,  5],\n",
      "       [30, 40],\n",
      "       [10, 40]])]\n"
     ]
    }
   ],
   "source": [
    "from_bbox = Annotation(size=(50, 50), bbox=[10, 5, 30, 40])\n",
    "\n",
    "boolean_array = from_bbox.array\n",
    "plt.imshow(boolean_array)\n",
    "plt.show()\n",
    "\n",
    "print(\"Area: {}\".format(from_bbox.area))\n",
    "print(\"BBox: {}\".format(from_bbox.bbox))\n",
    "print(\"Polygons in Point format:\\n{}\".format(from_bbox.polygons.points))"
   ]
  },
  {
   "cell_type": "markdown",
   "metadata": {},
   "source": [
    "#### Create an annotation from binary mask box"
   ]
  },
  {
   "cell_type": "code",
   "execution_count": 5,
   "metadata": {
    "scrolled": false
   },
   "outputs": [
    {
     "data": {
      "image/png": "[encoded data removed]",
      "text/plain": [
       "<Figure size 432x288 with 1 Axes>"
      ]
     },
     "metadata": {
      "needs_background": "light"
     },
     "output_type": "display_data"
    },
    {
     "name": "stdout",
     "output_type": "stream",
     "text": [
      "Area: 515\n",
      "BBox: (0, 0, 49, 49)\n"
     ]
    }
   ],
   "source": [
    "mask = np.random.choice([0, 1], size=(50, 50), p=[4./5, 1./5])\n",
    "\n",
    "from_mask = Annotation(size=mask.shape, mask=mask)\n",
    "\n",
    "boolean_array = from_mask.array\n",
    "plt.imshow(boolean_array)\n",
    "plt.show()\n",
    "\n",
    "print(\"Area: {}\".format(from_mask.area))\n",
    "print(\"BBox: {}\".format(from_mask.bbox))"
   ]
  },
  {
   "cell_type": "code",
   "execution_count": null,
   "metadata": {},
   "outputs": [],
   "source": []
  }
 ],
 "metadata": {
  "kernelspec": {
   "display_name": "Python 3",
   "language": "python",
   "name": "python3"
  },
  "language_info": {
   "codemirror_mode": {
    "name": "ipython",
    "version": 3
   },
   "file_extension": ".py",
   "mimetype": "text/x-python",
   "name": "python",
   "nbconvert_exporter": "python",
   "pygments_lexer": "ipython3",
   "version": "3.6.8"
  }
 },
 "nbformat": 4,
 "nbformat_minor": 2
}
